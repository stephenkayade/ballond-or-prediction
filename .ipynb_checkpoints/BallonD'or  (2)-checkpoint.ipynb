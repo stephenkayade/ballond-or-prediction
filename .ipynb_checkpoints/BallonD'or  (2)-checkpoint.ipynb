{
 "cells": [
  {
   "cell_type": "code",
   "execution_count": 1,
   "metadata": {},
   "outputs": [],
   "source": [
    "import numpy as np\n",
    "import pandas as pd\n",
    "import matplotlib.pyplot as plt\n",
    "import seaborn as sns\n",
    "import scipy.stats  as stats\n",
    "%matplotlib inline"
   ]
  },
  {
   "cell_type": "code",
   "execution_count": null,
   "metadata": {
    "scrolled": true
   },
   "outputs": [],
   "source": []
  },
  {
   "cell_type": "code",
   "execution_count": 2,
   "metadata": {},
   "outputs": [],
   "source": [
    "# data = pd.read_csv('data.csv')\n",
    "# data.head()\n",
    "# new = []\n",
    "\n",
    "# for p in range(0,500):\n",
    "#     new.append(1)\n",
    "# for i in range (501,1000):\n",
    "#     new.append(0)\n",
    "# for p in range (1001,5000):\n",
    "#     new.append(1)\n",
    "# for p in range(5001,10000):\n",
    "#     new.append(0)\n",
    "# for p in range(10001, 15000):\n",
    "#     new.append(1)\n",
    "# for p in range(15001, 18210):\n",
    "#     new.append(0)\n",
    "# data['BallonDor'] = pd.Series(new)"
   ]
  },
  {
   "cell_type": "code",
   "execution_count": 3,
   "metadata": {},
   "outputs": [],
   "source": [
    "#column = ['National_Position','National_Kit','Club','Club_Position','Club_Kit','Club_Joining','Contract_Expiry','Height','Weight','Preffered_Foot','Birth_Date','Preffered_Position','Work_Rate']\n",
    "#fifa17.drop(column, axis=1, inplace=True)"
   ]
  },
  {
   "cell_type": "code",
   "execution_count": 4,
   "metadata": {},
   "outputs": [],
   "source": [
    "#data[\"Ballon_D'or\"] = data."
   ]
  },
  {
   "cell_type": "code",
   "execution_count": null,
   "metadata": {},
   "outputs": [],
   "source": []
  },
  {
   "cell_type": "code",
   "execution_count": null,
   "metadata": {},
   "outputs": [],
   "source": [
    "\n"
   ]
  },
  {
   "cell_type": "code",
   "execution_count": 5,
   "metadata": {},
   "outputs": [
    {
     "ename": "NameError",
     "evalue": "name 'data' is not defined",
     "output_type": "error",
     "traceback": [
      "\u001b[1;31m---------------------------------------------------------------------------\u001b[0m",
      "\u001b[1;31mNameError\u001b[0m                                 Traceback (most recent call last)",
      "\u001b[1;32m<ipython-input-5-248e0e9133a5>\u001b[0m in \u001b[0;36m<module>\u001b[1;34m\u001b[0m\n\u001b[0;32m      1\u001b[0m \u001b[0mplt\u001b[0m\u001b[1;33m.\u001b[0m\u001b[0mfigure\u001b[0m\u001b[1;33m(\u001b[0m\u001b[0mfigsize\u001b[0m\u001b[1;33m=\u001b[0m\u001b[1;33m(\u001b[0m\u001b[1;36m15\u001b[0m\u001b[1;33m,\u001b[0m\u001b[1;36m32\u001b[0m\u001b[1;33m)\u001b[0m\u001b[1;33m)\u001b[0m\u001b[1;33m\u001b[0m\u001b[1;33m\u001b[0m\u001b[0m\n\u001b[1;32m----> 2\u001b[1;33m \u001b[0msns\u001b[0m\u001b[1;33m.\u001b[0m\u001b[0mcountplot\u001b[0m\u001b[1;33m(\u001b[0m\u001b[0my\u001b[0m \u001b[1;33m=\u001b[0m \u001b[0mdata\u001b[0m\u001b[1;33m.\u001b[0m\u001b[0mNationality\u001b[0m\u001b[1;33m,\u001b[0m\u001b[0mpalette\u001b[0m\u001b[1;33m=\u001b[0m\u001b[1;34m\"Set2\"\u001b[0m\u001b[1;33m)\u001b[0m\u001b[1;33m\u001b[0m\u001b[1;33m\u001b[0m\u001b[0m\n\u001b[0m",
      "\u001b[1;31mNameError\u001b[0m: name 'data' is not defined"
     ]
    },
    {
     "data": {
      "text/plain": [
       "<Figure size 1080x2304 with 0 Axes>"
      ]
     },
     "metadata": {},
     "output_type": "display_data"
    }
   ],
   "source": [
    "plt.figure(figsize=(15,32))\n",
    "sns.countplot(y = data.Nationality,palette=\"Set2\")"
   ]
  },
  {
   "cell_type": "markdown",
   "metadata": {},
   "source": [
    "First we  show the countries of the different players\n",
    "that are featuring in the 2018/2019 season.\n",
    "From this, we can see that England has the most value\n",
    "which denotes larger percentage of the 2018/2019 season\n",
    "was dominated by english players.\n",
    "We can also see Germany as another country with large percentage of participant."
   ]
  },
  {
   "cell_type": "markdown",
   "metadata": {
    "collapsed": true
   },
   "source": [
    "Note: The plot gebnerated above shows the countries of each players in the dataset which we'll work with\n"
   ]
  },
  {
   "cell_type": "code",
   "execution_count": null,
   "metadata": {},
   "outputs": [],
   "source": [
    "plt.figure(figsize=(15,6))\n",
    "sns.countplot(x=\"Age\",data=data)"
   ]
  },
  {
   "cell_type": "markdown",
   "metadata": {},
   "source": [
    "The graph is plotted on the y-axis alone\n",
    "\n",
    "\n",
    "Here ages of the participating players are represented on a plot \n",
    "which gives us the dominating ages of players and we can clearly\n",
    "see that young talents at the age of 21 dominated the scene this season and followed by players \n",
    "at their mid-careers 26 years, also had high values of participants,\n",
    "we can therefore assume that players between the ages of 19 and 29 respectively featured during the season "
   ]
  },
  {
   "cell_type": "code",
   "execution_count": null,
   "metadata": {},
   "outputs": [],
   "source": [
    "#plt.figure(figsize=(15,6))\n",
    "#sns.countplot(x=\"Name\",data=data)"
   ]
  },
  {
   "cell_type": "markdown",
   "metadata": {
    "collapsed": true
   },
   "source": [
    "This shows the ages of the players in the world as at 2019 "
   ]
  },
  {
   "cell_type": "code",
   "execution_count": null,
   "metadata": {},
   "outputs": [],
   "source": [
    "a = 0.5\n",
    "b = 1\n",
    "c = 2\n",
    "d = 3\n",
    "data['gk_Shot_Stopper'] = (b*data.Reactions + b*data.Composure + d*data.BallonDor + a*data.Strength + c*data.Jumping + b*data.GKDiving + c*data.GKReflexes + b*data.GKHandling)/(2*a + 4*b + 2*c + 1*d)\n",
    "data['gk_Sweeper'] = (a*data.Reactions + a*data.Composure + b*data.SprintSpeed + a*data.ShortPassing + a*data.LongPassing + b*data.SlidingTackle + a*data.GKReflexes + d*data.GKKicking)/(2*a + 4*b + 3*c + 2*d)"
   ]
  },
  {
   "cell_type": "markdown",
   "metadata": {},
   "source": [
    "Weight were assigned here to "
   ]
  },
  {
   "cell_type": "markdown",
   "metadata": {
    "collapsed": true
   },
   "source": [
    "Now we want to know the best goal keeper according to the stats provided by the dataset"
   ]
  },
  {
   "cell_type": "code",
   "execution_count": null,
   "metadata": {},
   "outputs": [],
   "source": [
    "plt.figure(figsize=(15,6))\n",
    "sd = data.sort_values('gk_Shot_Stopper', ascending=False)[:4]\n",
    "x1 = np.array(list(sd['Name']))\n",
    "y1 = np.array(list(sd['gk_Shot_Stopper']))\n",
    "sns.barplot(x1, y1, palette= \"colorblind\")\n",
    "plt.ylabel(\"Shot Stopping Score\")\n",
    "plt.show()"
   ]
  },
  {
   "cell_type": "markdown",
   "metadata": {},
   "source": [
    " ![title](oblak.jpg)"
   ]
  },
  {
   "cell_type": "markdown",
   "metadata": {},
   "source": [
    "this shows the best goal keeper that saves shots taken by opponents"
   ]
  },
  {
   "cell_type": "code",
   "execution_count": null,
   "metadata": {},
   "outputs": [],
   "source": [
    "plt.figure(figsize=(15,6))\n",
    "sd = data.sort_values('gk_Sweeper', ascending=False)[:4]\n",
    "x2 = np.array(list(sd['Name']))\n",
    "y2 = np.array(list(sd['gk_Sweeper']))\n",
    "sns.barplot(x2, y2, palette= \"colorblind\")\n",
    "plt.ylabel(\"sweeping score\")\n",
    "plt.show()"
   ]
  },
  {
   "cell_type": "markdown",
   "metadata": {},
   "source": [
    "![title](neuer.png)"
   ]
  },
  {
   "cell_type": "markdown",
   "metadata": {},
   "source": [
    "this shows the goal keeper that has the best saves with foot"
   ]
  },
  {
   "cell_type": "code",
   "execution_count": null,
   "metadata": {},
   "outputs": [],
   "source": [
    "data['best_goal_keeper'] = (b*data.GKHandling + d*data.GKDiving + d*data.Stamina + c*data.Jumping + a*data.Balance + c*data.Vision + b*data.Composure + d*data.Marking + c*data.GKPositioning + d*data.GKReflexes + d*data.GKKicking + d*data.gk_Shot_Stopper + c*data.gk_Sweeper)/(4*a+ 2*b + 2*c + 4*d)\n",
    "plt.figure(figsize=(15,6))\n",
    "sd = data.sort_values('best_goal_keeper', ascending=False)[:4]\n",
    "x2 = np.array(list(sd['Name']))\n",
    "y2 = np.array(list(sd['best_goal_keeper']))\n",
    "sns.barplot(x2, y2, palette= \"colorblind\")\n",
    "plt.ylabel(\"Number1 score\")\n",
    "plt.show()"
   ]
  },
  {
   "cell_type": "markdown",
   "metadata": {},
   "source": [
    "![title](neuer.png)"
   ]
  },
  {
   "cell_type": "markdown",
   "metadata": {},
   "source": [
    "According to the analysis provided by the graph\n",
    "Jan Oblak top the chart hence we can say Jan Oblak is the best goal keeper \n",
    "for the year 2019 "
   ]
  },
  {
   "cell_type": "code",
   "execution_count": null,
   "metadata": {},
   "outputs": [],
   "source": []
  },
  {
   "cell_type": "code",
   "execution_count": null,
   "metadata": {},
   "outputs": [],
   "source": []
  },
  {
   "cell_type": "code",
   "execution_count": null,
   "metadata": {},
   "outputs": [],
   "source": [
    "a = 0.5\n",
    "b = 1\n",
    "c = 2\n",
    "d = 3\n",
    "data['data_centre_backs'] = (d*data.Interceptions + d*data.SlidingTackle + d*data.BallonDor + d*data.StandingTackle + b*data.Composure + a*data.ShortPassing + b*data.LongPassing + d*data.Strength + a*data.SprintSpeed + d*data.Stamina + d*data.Jumping + b*data.HeadingAccuracy + d*data.Marking)/(2*a + 3*b + 8*d)\n",
    "data['data_wb_Wing_Backs'] = (b*data.BallControl + d*data.Marking + d*data.BallonDor + a*data.SlidingTackle + d*data.StandingTackle + b*data.Positioning + b*data.Crossing + b*data.ShortPassing + a*data.Vision + b*data.Strength + c*data.LongPassing + d*data.Acceleration + b*data.Balance + b*data.SprintSpeed + c*data.Stamina + a*data.Finishing)/(4*a + 2*b + 4*c + 4*d)"
   ]
  },
  {
   "cell_type": "code",
   "execution_count": null,
   "metadata": {},
   "outputs": [],
   "source": [
    "plt.figure(figsize=(15,6))\n",
    "sd = data[(data['Position'] == 'LCB')].sort_values('data_centre_backs', ascending=False)[:5]\n",
    "x2 = np.array(list(sd['Name']))\n",
    "y2 = np.array(list(sd['data_centre_backs']))\n",
    "sns.barplot(x2, y2, palette=sns.color_palette(\"Blues_d\"))\n",
    "plt.ylabel(\"LCB Score\")"
   ]
  },
  {
   "cell_type": "code",
   "execution_count": null,
   "metadata": {},
   "outputs": [],
   "source": [
    "data.info()"
   ]
  },
  {
   "cell_type": "markdown",
   "metadata": {},
   "source": [
    "![title](jan.jpg)"
   ]
  },
  {
   "cell_type": "code",
   "execution_count": null,
   "metadata": {},
   "outputs": [],
   "source": [
    "plt.figure(figsize=(15,6))\n",
    " \n",
    "sd = data[(data['Position'] == 'RCB')].sort_values('data_wb_Wing_Backs', ascending=False)[:5]\n",
    "x2 = np.array(list(sd['Name']))\n",
    "y2 = np.array(list(sd['data_wb_Wing_Backs']))\n",
    "sns.barplot(x2, y2, palette=sns.color_palette(\"Blues_d\"))\n",
    "plt.ylabel(\"RCB Score\")"
   ]
  },
  {
   "cell_type": "markdown",
   "metadata": {},
   "source": [
    "![title](ramos.jpg)"
   ]
  },
  {
   "cell_type": "code",
   "execution_count": null,
   "metadata": {},
   "outputs": [],
   "source": [
    "plt.figure(figsize=(15,6))\n",
    " \n",
    "sd = data[(data['Position'] == 'LB')].sort_values('data_wb_Wing_Backs', ascending=False)[:5]\n",
    "x4 = np.array(list(sd['Name']))\n",
    "y4 = np.array(list(sd['data_wb_Wing_Backs']))\n",
    "sns.barplot(x4, y4, palette=sns.color_palette(\"Blues_d\"))\n",
    "plt.ylabel(\"Left Back Score\")\n"
   ]
  },
  {
   "cell_type": "markdown",
   "metadata": {},
   "source": [
    "![title](jordi.jpg)"
   ]
  },
  {
   "cell_type": "code",
   "execution_count": null,
   "metadata": {},
   "outputs": [],
   "source": [
    "plt.figure(figsize=(15,6))\n",
    "sd = data[(data['Position'] == 'RB')].sort_values('data_wb_Wing_Backs', ascending=False)[:10]\n",
    "x5 = np.array(list(sd['Name']))\n",
    "y5 = np.array(list(sd['data_wb_Wing_Backs']))\n",
    "sns.barplot(x5, y5, palette=sns.color_palette(\"Blues_d\"))\n",
    "plt.ylabel(\"Right Back Score\")\n"
   ]
  },
  {
   "cell_type": "markdown",
   "metadata": {},
   "source": [
    "![title](cancelo.jpg)"
   ]
  },
  {
   "cell_type": "code",
   "execution_count": null,
   "metadata": {},
   "outputs": [],
   "source": [
    "#PLAYMAKER\n",
    "data['mf_playmaker'] = (d*data.BallControl + d*data.Dribbling + a*data.Marking + d*data.Reactions + d*data.Vision + c*data.Crossing + d*data.ShortPassing + c*data.LongPassing + c*data.Curve + b*data.LongShots + c*data.FKAccuracy)/(1*a + 1*b + 4*c + 4*d)\n",
    "data['mf_beast'] = (d*data.Agility + c*data.Balance + d*data.Strength + d*data.Stamina + d*data.SprintSpeed + c*data.Acceleration + a*data.LongPassing + a*data.ShortPassing + c*data.Aggression + d*data.Reactions + b*data.Marking + b*data.StandingTackle + b*data.SlidingTackle + b*data.Interceptions)/(2*a + 5*b + 3*c + 6*d)\n",
    "data['mf_controller'] = (d*data.BallControl + a*data.Dribbling + a*data.Marking + a*data.Reactions + c*data.Vision + c*data.Composure + d*data.ShortPassing + d*data.LongPassing)/(2*c + 3*d + 3*a)\n"
   ]
  },
  {
   "cell_type": "code",
   "execution_count": null,
   "metadata": {},
   "outputs": [],
   "source": [
    "plt.figure(figsize=(15,6))\n",
    " \n",
    "ss = data[(data['Position'] == 'CAM') | (data['Position'] == 'LAM') | (data['Position'] == 'RAM')].sort_values('mf_playmaker', ascending=False)[:5]\n",
    "x3 = np.array(list(ss['Name']))\n",
    "y3 = np.array(list(ss['mf_playmaker']))\n",
    "sns.barplot(x3, y3, palette=sns.diverging_palette(145, 280, s=85, l=25, n=5))\n",
    "plt.ylabel(\"PlayMaker Score\")\n"
   ]
  },
  {
   "cell_type": "markdown",
   "metadata": {},
   "source": [
    "![title](eriksen.jpg)"
   ]
  },
  {
   "cell_type": "code",
   "execution_count": null,
   "metadata": {},
   "outputs": [],
   "source": [
    "plt.figure(figsize=(15,6))\n",
    " \n",
    "ss = data[(data['Position'] == 'RDM') | (data['Position'] == 'LDM') | (data['Position'] == 'CDM')].sort_values('mf_beast', ascending=False)[:5]\n",
    "x2 = np.array(list(ss['Name']))\n",
    "y2 = np.array(list(ss['mf_beast']))\n",
    "sns.barplot(x2, y2, palette=sns.diverging_palette(145, 280, s=85, l=25, n=5))\n",
    "plt.ylabel(\"Beast Score\")\n"
   ]
  },
  {
   "cell_type": "markdown",
   "metadata": {},
   "source": [
    "![title](allan.jpg)"
   ]
  },
  {
   "cell_type": "code",
   "execution_count": null,
   "metadata": {},
   "outputs": [],
   "source": [
    "plt.figure(figsize=(15,6))\n",
    " \n",
    "# Generate some sequential data\n",
    "ss = data[(data['Position'] == 'LCM') | (data['Position'] == 'LM')].sort_values('mf_controller', ascending=False)[:5]\n",
    "x1 = np.array(list(ss['Name']))\n",
    "y1 = np.array(list(ss['mf_controller']))\n",
    "sns.barplot(x1, y1, palette=sns.diverging_palette(145, 280, s=85, l=25, n=5))\n",
    "plt.ylabel(\"Controller Score\")\n"
   ]
  },
  {
   "cell_type": "markdown",
   "metadata": {},
   "source": [
    "![title](silva.jpg)"
   ]
  },
  {
   "cell_type": "code",
   "execution_count": null,
   "metadata": {},
   "outputs": [],
   "source": [
    "#Attackers\n",
    "data['att_left_wing'] = (c*data.BallControl + c*data.Dribbling + c*data.SprintSpeed + d*data.Acceleration + b*data.Vision + c*data.Crossing + b*data.ShortPassing + b*data.LongPassing + b*data.Aggression + b*data.Agility + a*data.Curve + c*data.LongShots + b*data.FKAccuracy + d*data.Finishing)/(a + 6*b + 6*c + 2*d)\n",
    "data['att_right_wing'] = (c*data.BallControl + c*data.Dribbling + c*data.SprintSpeed + d*data.Acceleration + b*data.Vision + c*data.Crossing + b*data.ShortPassing + b*data.LongPassing + b*data.Aggression + b*data.Agility + a*data.Curve + c*data.LongShots + b*data.FKAccuracy + d*data.Finishing)/(a + 6*b + 6*c + 2*d)\n",
    "data['att_striker'] = (b*data.BallControl + a*data.Vision + b*data.Aggression + b*data.Agility + a*data.Curve + a*data.LongShots + d*data.Balance + d*data.Finishing + d*data.HeadingAccuracy + c*data.Jumping + c*data.Dribbling)/(3*a + 4*b + 2*c + 3*d)\n"
   ]
  },
  {
   "cell_type": "code",
   "execution_count": null,
   "metadata": {},
   "outputs": [],
   "source": [
    "plt.figure(figsize=(15,6))\n",
    " \n",
    "ss = data[(data['Position'] == 'LF') | (data['Position'] == 'LS')].sort_values('att_left_wing', ascending=False)[:5]\n",
    "x1 = np.array(list(ss['Name']))\n",
    "y1 = np.array(list(ss['att_left_wing']))\n",
    "sns.barplot(x1, y1, palette=sns.diverging_palette(255, 133, l=60, n=5, center=\"dark\"))\n",
    "plt.ylabel(\"Left Wing\")\n"
   ]
  },
  {
   "cell_type": "markdown",
   "metadata": {},
   "source": [
    "![title](neymar.jpg)"
   ]
  },
  {
   "cell_type": "code",
   "execution_count": null,
   "metadata": {},
   "outputs": [],
   "source": [
    "plt.figure(figsize=(15,6))\n",
    " \n",
    "ss = data[(data['Position'] == 'RF') | (data['Position'] == 'RS')].sort_values('att_right_wing', ascending=False)[:5]\n",
    "x2 = np.array(list(ss['Name']))\n",
    "y2 = np.array(list(ss['att_right_wing']))\n",
    "sns.barplot(x2, y2, palette=sns.diverging_palette(255, 133, l=60, n=5, center=\"dark\"))\n",
    "plt.ylabel(\"Right Wing\")\n"
   ]
  },
  {
   "cell_type": "markdown",
   "metadata": {},
   "source": [
    "![title](mbappe.jpg)"
   ]
  },
  {
   "cell_type": "code",
   "execution_count": null,
   "metadata": {},
   "outputs": [],
   "source": [
    "plt.figure(figsize=(15,6))\n",
    "ss = data[(data['Position'] == 'ST') | (data['Position'] == 'LS') | (data['Position'] == 'RS') | (data['Position'] == 'CF')].sort_values('att_striker', ascending=False)[:5]\n",
    "x3 = np.array(list(ss['Name']))\n",
    "y3 = np.array(list(ss['att_striker']))\n",
    "sns.barplot(x3, y3, palette=sns.diverging_palette(255, 133, l=60, n=5, center=\"dark\"))\n",
    "plt.ylabel(\"Striker\")\n"
   ]
  },
  {
   "cell_type": "code",
   "execution_count": null,
   "metadata": {},
   "outputs": [],
   "source": [
    "data.columns"
   ]
  },
  {
   "cell_type": "code",
   "execution_count": null,
   "metadata": {},
   "outputs": [],
   "source": []
  },
  {
   "cell_type": "markdown",
   "metadata": {},
   "source": [
    "![title](cristiano.jpg)"
   ]
  },
  {
   "cell_type": "code",
   "execution_count": null,
   "metadata": {},
   "outputs": [],
   "source": [
    "data['best_player'] =(b*data.BallControl + a*data.Vision + b*data.Agility + a*data.Curve + a*data.LongShots + d*data.Balance + d*data.Finishing + d*data.HeadingAccuracy + c*data.Dribbling + c*data.Vision + d*data.Stamina + c*data.Jumping + b*data.FKAccuracy + a*data.Balance  + c*data.Vision + b*data.Composure)/(5*a + 2*b + 3*c + 5*d)\n",
    "plt.figure(figsize=(15,6)) \n",
    "ss = data[(data['Position'] == 'ST') | (data['Position'] == 'LS') | (data['Position'] == 'RS') | (data['Position'] == 'CF') | (data['Position'] == 'RW') | (data['Position'] == 'RM') | (data['Position'] == 'RS') | (data['Position'] == 'LW') | (data['Position'] == 'LM') | (data['Position'] == 'LS') | (data['Position'] == 'LCM') | (data['Position'] == 'LM') | (data['Position'] == 'RCM') | (data['Position'] == 'RM') | (data['Position'] == 'CAM') | (data['Position'] == 'LAM') | (data['Position'] == 'RAM') | (data['Position'] == 'RWB') | (data['Position'] == 'RB') | (data['Position'] == 'LWB') | (data['Position'] == 'LB') | (data['Position'] == 'RCB') | (data['Position'] == 'LCB')].sort_values('best_player', ascending=False)[:5]\n",
    "x2 = np.array(list(ss['Name']))\n",
    "y2 = np.array(list(ss['best_player']))\n",
    "sns.barplot(x2, y2, palette=sns.diverging_palette(255, 133, l=60, n=5, center=\"dark\"))\n",
    "plt.ylabel(\"Ballond'or winner\")\n"
   ]
  },
  {
   "cell_type": "markdown",
   "metadata": {},
   "source": [
    "![title](cristiano.jpg)\n"
   ]
  },
  {
   "cell_type": "markdown",
   "metadata": {},
   "source": [
    "According to the stats given by the barplot we get to know that\n",
    "Cristiano Ronaldo is the  best player in the world for the year 2019"
   ]
  }
 ],
 "metadata": {
  "kernelspec": {
   "display_name": "Python 3",
   "language": "python",
   "name": "python3"
  },
  "language_info": {
   "codemirror_mode": {
    "name": "ipython",
    "version": 3
   },
   "file_extension": ".py",
   "mimetype": "text/x-python",
   "name": "python",
   "nbconvert_exporter": "python",
   "pygments_lexer": "ipython3",
   "version": "3.7.3"
  }
 },
 "nbformat": 4,
 "nbformat_minor": 2
}
